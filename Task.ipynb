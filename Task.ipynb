{
 "cells": [
  {
   "cell_type": "markdown",
   "source": [
    "## Вопрос №1\n",
    "\n",
    "На языке Python написать алгоритм (функцию) определения четности целого числа, который будет аналогичен нижеприведенному по функциональности, но отличен по своей сути. Объяснить плюсы и минусы обеих реализаций. \n",
    "Пример: \n",
    "```\n",
    "def isEven(value):\n",
    "    return value % 2 == 0\n",
    "```\n",
    "\n",
    "## Вопрос №2\n",
    "\n",
    "На языке Python написать минимум по 2 класса реализовывающих циклический буфер FIFO. Объяснить плюсы и минусы каждой реализации.\n",
    "Оценивается:\n",
    "* Полнота и качество реализации\n",
    "* Оформление кода\n",
    "* Наличие сравнения и пояснения по быстродействию\n",
    "\n",
    "## Вопрос №3\n",
    "\n",
    "На языке Python предложить алгоритм, который быстрее всего (по процессорным тикам) отсортирует данный ей массив чисел. Массив может быть любого размера со случайным порядком чисел (в том числе и отсортированным). Объяснить, почему вы считаете, что функция соответствует заданным критериям."
   ],
   "metadata": {
    "collapsed": false
   },
   "id": "a24457802b903aba"
  },
  {
   "cell_type": "markdown",
   "source": [
    "# Вопрос №1"
   ],
   "metadata": {
    "collapsed": false
   },
   "id": "1d5795127600fe8"
  },
  {
   "cell_type": "code",
   "outputs": [],
   "source": [
    "def is_even(value):\n",
    "    return not value & 1"
   ],
   "metadata": {
    "collapsed": false,
    "ExecuteTime": {
     "end_time": "2024-01-30T14:15:06.058112700Z",
     "start_time": "2024-01-30T14:15:06.041078100Z"
    }
   },
   "id": "3404e9203c39f6c7",
   "execution_count": 11
  },
  {
   "cell_type": "code",
   "outputs": [],
   "source": [
    "def isEven(value):\n",
    "    return value % 2 == 0"
   ],
   "metadata": {
    "collapsed": false,
    "ExecuteTime": {
     "end_time": "2024-01-30T14:17:01.412980100Z",
     "start_time": "2024-01-30T14:17:01.397963600Z"
    }
   },
   "id": "40bec94ccf52c156",
   "execution_count": 15
  },
  {
   "cell_type": "code",
   "outputs": [
    {
     "name": "stdout",
     "output_type": "stream",
     "text": [
      "0.005946299999777693\n",
      "0.005567400000018097\n"
     ]
    }
   ],
   "source": [
    "from timeit import timeit\n",
    "\n",
    "numbers = [1, 2, 3, 4, 5, 6, 7, 8, 9, 10]\n",
    "\n",
    "print(timeit(lambda: [isEven(x) for x in numbers], number=10000))\n",
    "print(timeit(lambda: [is_even(x) for x in numbers], number=10000))\n"
   ],
   "metadata": {
    "collapsed": false,
    "ExecuteTime": {
     "end_time": "2024-01-30T14:19:01.806483200Z",
     "start_time": "2024-01-30T14:19:01.782150100Z"
    }
   },
   "id": "5b19af76f96bb335",
   "execution_count": 17
  },
  {
   "cell_type": "markdown",
   "source": [
    "## Объяснение\n",
    "\n",
    "**Наглядно показано, что метод, использующий побитовый оператор для проверки четности работает немного быстрее метода, использующего оператор деления с остатком.**\n",
    "\n",
    "Минусом реализации с побитовым оператором является ее не лучшая читаемость. Некоторым людям может быть не понятно что делает функция по ее реализации."
   ],
   "metadata": {
    "collapsed": false
   },
   "id": "c8348cb0dfea3f3e"
  },
  {
   "cell_type": "markdown",
   "source": [
    "# Вопрос№2"
   ],
   "metadata": {
    "collapsed": false
   },
   "id": "1780166c024c1c1f"
  },
  {
   "cell_type": "code",
   "outputs": [],
   "source": [
    "class FIFO1:\n",
    "    def __init__(self, values=None):\n",
    "        if values is None:\n",
    "            self.values = []\n",
    "        else:\n",
    "            self.values = values[::]\n",
    "            \n",
    "    def pop(self):\n",
    "        if len(self.values) > 0:\n",
    "            return self.values.pop(0)\n",
    "        else:\n",
    "            return None\n",
    "    \n",
    "    def push(self, value):\n",
    "        self.values.append(value)\n",
    "        \n",
    "    def __repr__(self):\n",
    "        return repr(self.values)\n"
   ],
   "metadata": {
    "collapsed": false,
    "ExecuteTime": {
     "end_time": "2024-01-30T15:18:20.671572700Z",
     "start_time": "2024-01-30T15:18:20.668753100Z"
    }
   },
   "id": "e6b89111d3e5cb3c",
   "execution_count": 83
  },
  {
   "cell_type": "code",
   "outputs": [],
   "source": [
    "class FIFO2:\n",
    "    class Element:\n",
    "        def __init__(self, value, _next=None, _prev=None):\n",
    "            self.value = value\n",
    "            self.next = _next\n",
    "            self.prev = _prev\n",
    "    \n",
    "    def __init__(self, values=None):\n",
    "        self.head = None\n",
    "        self.tail = None\n",
    "        if values is not None and len(values) > 0:\n",
    "            for value in values:\n",
    "                self.push(value)\n",
    "\n",
    "    def pop(self):\n",
    "        if self.tail is None:\n",
    "            return None\n",
    "        tail_value = self.tail.value\n",
    "        if self.tail.prev is not None:\n",
    "            self.tail = self.tail.prev\n",
    "            self.tail.next = None\n",
    "        else:\n",
    "            self.head = None\n",
    "            self.tail = None\n",
    "        return tail_value\n",
    "        \n",
    "    def push(self, value):\n",
    "        if self.head is None:\n",
    "            self.head = FIFO2.Element(value)\n",
    "            self.tail = self.head\n",
    "        else:\n",
    "            new_head = FIFO2.Element(value, _next=self.head)\n",
    "            self.head.prev = new_head\n",
    "            self.head = new_head\n",
    "    \n",
    "    def __repr__(self):\n",
    "        values = []\n",
    "        cur = self.head\n",
    "        while cur is not None:\n",
    "            values.append(cur.value)\n",
    "            cur = cur.next\n",
    "        return repr(values)\n"
   ],
   "metadata": {
    "collapsed": false,
    "ExecuteTime": {
     "end_time": "2024-01-30T15:18:21.174109500Z",
     "start_time": "2024-01-30T15:18:21.170855900Z"
    }
   },
   "id": "37f4d27321a47db1",
   "execution_count": 84
  },
  {
   "cell_type": "code",
   "outputs": [],
   "source": [
    "from collections import deque\n",
    "\n",
    "class FIFO3(deque):\n",
    "    def push(self, value):\n",
    "        self.append(value)\n",
    "    \n",
    "    def pop(self):\n",
    "        try:\n",
    "            return self.popleft()\n",
    "        except IndexError:\n",
    "            return None"
   ],
   "metadata": {
    "collapsed": false,
    "ExecuteTime": {
     "end_time": "2024-01-30T15:20:06.084828800Z",
     "start_time": "2024-01-30T15:20:06.073806100Z"
    }
   },
   "id": "258d44c05664b6a9",
   "execution_count": 88
  },
  {
   "cell_type": "code",
   "outputs": [],
   "source": [
    "def test_fifo1(queue):\n",
    "    for x in numbers:\n",
    "        queue.push(x)\n",
    "    for _ in numbers:\n",
    "        queue.pop()\n",
    "\n",
    "def test_fifo2(queue):\n",
    "    for x in numbers*100:\n",
    "        queue.push(x)\n",
    "    for _ in numbers*105:\n",
    "        queue.pop()\n"
   ],
   "metadata": {
    "collapsed": false,
    "ExecuteTime": {
     "end_time": "2024-01-30T15:20:06.990665100Z",
     "start_time": "2024-01-30T15:20:06.983048600Z"
    }
   },
   "id": "93cc15c103e1ff0a",
   "execution_count": 89
  },
  {
   "cell_type": "code",
   "outputs": [
    {
     "name": "stdout",
     "output_type": "stream",
     "text": [
      "0.018370100000538514\n",
      "0.030239300000175717\n",
      "0.011435200000050827\n",
      "1.3911026999994647\n",
      "2.696549799999957\n",
      "0.9940397000000303\n"
     ]
    }
   ],
   "source": [
    "queue1 = FIFO1()\n",
    "queue2 = FIFO2()\n",
    "queue3 = FIFO3()\n",
    "\n",
    "print(timeit(lambda: test_fifo1(queue1), number=10000))\n",
    "print(timeit(lambda: test_fifo1(queue2), number=10000))\n",
    "print(timeit(lambda: test_fifo1(queue3), number=10000))\n",
    "\n",
    "queue1 = FIFO1()\n",
    "queue2 = FIFO2()\n",
    "queue3 = FIFO3()\n",
    "\n",
    "print(timeit(lambda: test_fifo2(queue1), number=10000))\n",
    "print(timeit(lambda: test_fifo2(queue2), number=10000))\n",
    "print(timeit(lambda: test_fifo2(queue3), number=10000))"
   ],
   "metadata": {
    "collapsed": false,
    "ExecuteTime": {
     "end_time": "2024-01-30T15:20:12.592556100Z",
     "start_time": "2024-01-30T15:20:07.463779800Z"
    }
   },
   "id": "c78485778d375c39",
   "execution_count": 90
  },
  {
   "cell_type": "markdown",
   "source": [
    "Заметно, что класс FIFO2 проигрывает классу FIFO1 в производительности так же как и в потреблении памяти. FIFO2 все же хранит каждое значение в обертке из класса `Element`, который в свою очередь помимо значения хранит ссылки на другие элементы списка.\n",
    "\n",
    "Если же сравнивать реализации FIFO1 и FIFO3, то очевидно, что FIFO3 выигрывает по скорости работы. Связано это с тем, что FIFO3 написан на Си в то же время как FIFO1 написан на Python. Реализация FIFO2 - это попытка написать аналог FIFO3 на Python и как видно из тестов, она хоть и справляется с работой, но работает хуже реализации FIFO1. \n",
    "\n",
    "Важно отметить, что FIFO2 и FIFO3 используют двойной связанный список в то же время как FIFO1 хранит данные в динамическом массиве Python.\n",
    "\n",
    "Получается, что двойной список работает эффективнее динамического массива однако реализация его на python малоэффективна и выгодней использовать реализацию на Си."
   ],
   "metadata": {
    "collapsed": false
   },
   "id": "3524d1867b1bed18"
  },
  {
   "cell_type": "markdown",
   "source": [
    "# Вопрос№3"
   ],
   "metadata": {
    "collapsed": false
   },
   "id": "e7fe4d63c90b1dd2"
  },
  {
   "cell_type": "code",
   "outputs": [],
   "source": [
    "def quicksort(values):\n",
    "    if len(values) <= 1:\n",
    "        return values\n",
    "    pivot = values[len(values)//2]\n",
    "    return quicksort(list(filter(lambda x: x < pivot, values))) + \\\n",
    "        list(filter(lambda x: x == pivot, values))+ \\\n",
    "        quicksort(list(filter(lambda x: x > pivot, values)))\n"
   ],
   "metadata": {
    "collapsed": false,
    "ExecuteTime": {
     "end_time": "2024-01-30T15:32:51.824224500Z",
     "start_time": "2024-01-30T15:32:51.817807700Z"
    }
   },
   "id": "344c5c86e7c203c8",
   "execution_count": 93
  },
  {
   "cell_type": "code",
   "outputs": [
    {
     "data": {
      "text/plain": "[1, 1, 2, 2, 3, 4, 4, 5, 6, 6, 7, 8, 8]"
     },
     "execution_count": 94,
     "metadata": {},
     "output_type": "execute_result"
    }
   ],
   "source": [
    "quicksort([1,5, 6, 7, 8, 2, 4, 6, 1, 2, 3, 8 ,4])"
   ],
   "metadata": {
    "collapsed": false,
    "ExecuteTime": {
     "end_time": "2024-01-30T15:33:10.242224100Z",
     "start_time": "2024-01-30T15:33:10.231713100Z"
    }
   },
   "id": "cbd77cee3799d43e",
   "execution_count": 94
  },
  {
   "cell_type": "markdown",
   "source": [],
   "metadata": {
    "collapsed": false
   },
   "id": "7d644a520d1c90ef"
  },
  {
   "cell_type": "markdown",
   "source": [
    "Выше представлена реализация классического алгоритма быстрой сортировки. Данный алгоритм сортирует массив быстрее всего в том смысле, что он обладает сложностью $O(n log_2 n)$."
   ],
   "metadata": {
    "collapsed": false
   },
   "id": "7e17d576bea51c46"
  }
 ],
 "metadata": {
  "kernelspec": {
   "display_name": "Python 3",
   "language": "python",
   "name": "python3"
  },
  "language_info": {
   "codemirror_mode": {
    "name": "ipython",
    "version": 2
   },
   "file_extension": ".py",
   "mimetype": "text/x-python",
   "name": "python",
   "nbconvert_exporter": "python",
   "pygments_lexer": "ipython2",
   "version": "2.7.6"
  }
 },
 "nbformat": 4,
 "nbformat_minor": 5
}
